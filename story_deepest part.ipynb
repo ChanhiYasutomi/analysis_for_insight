{
 "cells": [
  {
   "cell_type": "code",
   "execution_count": 3,
   "metadata": {},
   "outputs": [],
   "source": [
    "import pandas as pd\n",
    "target_table = pd.read_csv(r'target_table.csv')"
   ]
  },
  {
   "cell_type": "markdown",
   "metadata": {},
   "source": [
    "    ストーリー最深部のパターンをカウントして、継続率(離脱率)を算出。\n",
    "    count - flg_continue = 継続率を算出し、表を作成する"
   ]
  },
  {
   "cell_type": "code",
   "execution_count": 11,
   "metadata": {},
   "outputs": [],
   "source": [
    "df_story = target_table.groupby(['story_1', 'story_2', 'story_3'], as_index=False, dropna=False).agg({'user_id':'count', 'flg_continue':'sum'})\n",
    "df_story = df_story.sort_values(by = 'user_id', ascending = False)\n",
    "df_story.to_csv('df_story.csv', index = False)"
   ]
  }
 ],
 "metadata": {
  "kernelspec": {
   "display_name": "Python 3",
   "language": "python",
   "name": "python3"
  },
  "language_info": {
   "codemirror_mode": {
    "name": "ipython",
    "version": 3
   },
   "file_extension": ".py",
   "mimetype": "text/x-python",
   "name": "python",
   "nbconvert_exporter": "python",
   "pygments_lexer": "ipython3",
   "version": "3.11.4"
  }
 },
 "nbformat": 4,
 "nbformat_minor": 2
}
