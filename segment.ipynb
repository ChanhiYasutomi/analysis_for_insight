{
 "cells": [
  {
   "cell_type": "code",
   "execution_count": 9,
   "metadata": {},
   "outputs": [],
   "source": [
    "import pandas as pd\n",
    "target_table = pd.read_csv(r'xxx.csv')"
   ]
  },
  {
   "cell_type": "code",
   "execution_count": 1,
   "metadata": {},
   "outputs": [],
   "source": [
    "def seg_logic(row):\n",
    "    if row['flg_content_one_play'] == 1:\n",
    "        if row['cnt_content_two_play'] >= 60:\n",
    "            return 'A'\n",
    "        elif 10 <= row['cnt_content_two_play'] <= 50:\n",
    "            return 'B'\n",
    "        else:\n",
    "            return 'E'\n",
    "    elif row['flg_content_one_play'] == 0:\n",
    "        if row['sum_use_ap'] > 0:\n",
    "            return 'C'\n",
    "        elif row['sum_use_ap'] == 0:\n",
    "            return 'D'\n",
    "    return 'E'"
   ]
  },
  {
   "cell_type": "code",
   "execution_count": null,
   "metadata": {},
   "outputs": [],
   "source": [
    "target_table['seg'] = target_table.apply(seg_logic, axis=1)\n",
    "target_table"
   ]
  },
  {
   "cell_type": "code",
   "execution_count": null,
   "metadata": {},
   "outputs": [],
   "source": []
  }
 ],
 "metadata": {
  "kernelspec": {
   "display_name": "Python 3",
   "language": "python",
   "name": "python3"
  },
  "language_info": {
   "codemirror_mode": {
    "name": "ipython",
    "version": 3
   },
   "file_extension": ".py",
   "mimetype": "text/x-python",
   "name": "python",
   "nbconvert_exporter": "python",
   "pygments_lexer": "ipython3",
   "version": "3.9.5"
  }
 },
 "nbformat": 4,
 "nbformat_minor": 2
}
