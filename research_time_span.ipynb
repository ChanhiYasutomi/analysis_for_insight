{
 "cells": [
  {
   "cell_type": "code",
   "execution_count": 3,
   "metadata": {},
   "outputs": [
    {
     "name": "stdout",
     "output_type": "stream",
     "text": [
      "差分: 27日 23時間 59分 59秒\n"
     ]
    }
   ],
   "source": [
    "from datetime import datetime\n",
    "\n",
    "# 開始時刻と終了時刻を定義\n",
    "target_time_start = datetime(2023, 11, 1, 11, 0, 0)\n",
    "target_time_end = datetime(2023, 11, 29, 10, 59, 59)\n",
    "\n",
    "# 時間差を計算\n",
    "time_difference = target_time_end - target_time_start\n",
    "\n",
    "# 日数、時、分、秒に変換\n",
    "days = time_difference.days\n",
    "hours = time_difference.seconds // 3600\n",
    "minutes = (time_difference.seconds % 3600) // 60\n",
    "seconds = time_difference.seconds % 60\n",
    "\n",
    "# 結果を表示\n",
    "print(f\"差分: {days}日 {hours}時間 {minutes}分 {seconds}秒\")\n",
    "\n",
    "# seconds = 86399\n",
    "# hours = seconds // 3600 # 時間を計算\n",
    "# remaining_seconds = seconds % 3600 # 残りの秒数を計算\n",
    "# minutes = remaining_seconds // 60 # 分を計算\n",
    "# remaining_seconds = remaining_seconds % 60 # 残りの秒数を計算\n",
    "# print(f\"{hours}時間 {minutes}分 {remaining_seconds}秒\") # 結果を表示\n"
   ]
  }
 ],
 "metadata": {
  "kernelspec": {
   "display_name": "Python 3",
   "language": "python",
   "name": "python3"
  },
  "language_info": {
   "codemirror_mode": {
    "name": "ipython",
    "version": 3
   },
   "file_extension": ".py",
   "mimetype": "text/x-python",
   "name": "python",
   "nbconvert_exporter": "python",
   "pygments_lexer": "ipython3",
   "version": "3.11.4"
  }
 },
 "nbformat": 4,
 "nbformat_minor": 2
}
