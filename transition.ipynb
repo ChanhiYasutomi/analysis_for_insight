{
 "cells": [
  {
   "cell_type": "markdown",
   "metadata": {},
   "source": [
    "# import library"
   ]
  },
  {
   "cell_type": "code",
   "execution_count": 105,
   "metadata": {},
   "outputs": [],
   "source": [
    "import pandas as pd\n",
    "\n",
    "df_segment_one_segment_two_before_before = pd.read_csv(r'df_segment_one_segment_two_before_before .csv')\n",
    "df_segment_one_segment_two_before = pd.read_csv(r'df_segment_one_segment_two_before.csv')\n",
    "df_segment_one_segment_two_after = pd.read_csv(r'df_segment_one_segment_two_after.csv')"
   ]
  },
  {
   "cell_type": "markdown",
   "metadata": {},
   "source": [
    "### 前提となるデータ\n",
    "    課金セグメント\n",
    "    例: \n",
    "    segment_one: セグメント1_1, セグメント1_2, セグメント1_3, セグメント1_4, セグメント1_5\n",
    "    segment_two: セグメント2_1, セグメント2_2, セグメント2_3, セグメント2_4, セグメント2_5"
   ]
  },
  {
   "cell_type": "markdown",
   "metadata": {},
   "source": [
    "## segment_one × segment_two UU, segment_one × segment_two sales"
   ]
  },
  {
   "cell_type": "code",
   "execution_count": 83,
   "metadata": {},
   "outputs": [],
   "source": [
    "df_cross_uu_before = pd.crosstab(df_segment_one_segment_two_before['segment_one'], df_segment_one_segment_two_before['segment_two'], values = df_segment_one_segment_two_before['user_id'], aggfunc = 'count')\n",
    "df_cross_payment_before = pd.crosstab(df_segment_one_segment_two_before['segment_one'], df_segment_one_segment_two_before['segment_two'], values = df_segment_one_segment_two_before['sum_paid'], aggfunc = 'sum')\n",
    "df_cross_uu_after = pd.crosstab(df_segment_one_segment_two_after['segment_one'], df_segment_one_segment_two_after['segment_two'], values = df_segment_one_segment_two_after['user_id'], aggfunc = 'count')\n",
    "df_cross_payment_after = pd.crosstab(df_segment_one_segment_two_after['segment_one'], df_segment_one_segment_two_after['segment_two'], values = df_segment_one_segment_two_after['sum_paid'], aggfunc = 'sum')\n",
    "\n",
    "df_cross_uu_before.to_csv('df_cross_uu_before.csv', encoding = 'shift-jis')\n",
    "df_cross_payment_before.to_csv('df_cross_payment_before.csv', encoding = 'shift-jis')\n",
    "df_cross_uu_after.to_csv('df_cross_uu_after.csv', encoding = 'shift-jis')\n",
    "df_cross_payment_after.to_csv('df_cross_payment_after.csv', encoding = 'shift-jis')"
   ]
  },
  {
   "cell_type": "code",
   "execution_count": null,
   "metadata": {},
   "outputs": [],
   "source": []
  },
  {
   "cell_type": "markdown",
   "metadata": {},
   "source": [
    "# segment_one_transition(Table)"
   ]
  },
  {
   "cell_type": "code",
   "execution_count": 108,
   "metadata": {},
   "outputs": [],
   "source": [
    "df_only_segment_one_before = df_segment_one_segment_two_before[['user_id', 'segment_one', 'sum_paid']]\n",
    "df_only_segment_one_after = df_segment_one_segment_two_after[['user_id', 'segment_one', 'sum_paid']]\n",
    "\n",
    "df_segment_one = pd.merge(df_only_segment_one_before, df_only_segment_one_after, how = 'inner', on = 'user_id').rename(columns={'segment_one_x': 'segment_one_before', 'segment_one_y': 'segment_one_after', 'sum_paid_x': 'sum_paid_before', 'sum_paid_y': 'span_paid_after'})\n",
    "df_segment_one = df_segment_one.groupby(['segment_one_before', 'segment_one_after'], as_index = False, dropna = False).agg({'user_id':'count', 'sum_paid_before':'sum', 'span_paid_after':'sum'})\n",
    "df_segment_one['diff'] = df_segment_one['span_paid_after'] - df_segment_one['sum_paid_before']\n",
    "df_segment_one = df_segment_one.sort_values(by = 'diff', ascending = False)\n",
    "df_segment_one\n",
    "\n",
    "df_segment_one.to_csv('df_segment_one.csv', encoding = 'shift-jis')"
   ]
  },
  {
   "cell_type": "code",
   "execution_count": null,
   "metadata": {},
   "outputs": [],
   "source": []
  },
  {
   "cell_type": "markdown",
   "metadata": {},
   "source": [
    "# segment_two_transition(Table)"
   ]
  },
  {
   "cell_type": "code",
   "execution_count": 107,
   "metadata": {},
   "outputs": [],
   "source": [
    "df_only_segment_two_before = df_segment_one_segment_two_before[['user_id', 'segment_two', 'sum_paid']]\n",
    "df_only_segment_two_after = df_segment_one_segment_two_after[['user_id', 'segment_two', 'sum_paid']]\n",
    "\n",
    "segment_two = pd.merge(df_only_segment_two_before, df_only_segment_two_after, how = 'inner', on = 'user_id').rename(columns={'segment_two_x': 'gasha_span_before', 'segment_two_y': 'gasha_span_after', 'sum_paid_x': 'sum_paid_before', 'sum_paid_y': 'span_paid_after'})\n",
    "segment_two = segment_two.groupby(['segment_two_before', 'segment_two_after'], as_index = False, dropna = False).agg({'user_id':'count', 'sum_paid_before':'sum', 'span_paid_after':'sum'})\n",
    "segment_two['diff'] = segment_two['span_paid_after'] - segment_two['sum_paid_before']\n",
    "segment_two = segment_two.sort_values(by = 'diff', ascending = False)\n",
    "\n",
    "segment_two.to_csv('segment_two.csv', encoding = 'shift-jis')"
   ]
  },
  {
   "cell_type": "code",
   "execution_count": null,
   "metadata": {},
   "outputs": [],
   "source": []
  },
  {
   "cell_type": "markdown",
   "metadata": {},
   "source": [
    "# segment_one_transition(Sankey diagram)"
   ]
  },
  {
   "cell_type": "code",
   "execution_count": 113,
   "metadata": {},
   "outputs": [],
   "source": [
    "df_before_before = df_segment_one_segment_two_before_before[['user_id', 'segment_one']].rename(columns={'segment_one': 'yyyy年mm月'})\n",
    "df_before = df_segment_one_segment_two_before[['user_id', 'segment_one']].rename(columns={'segment_one': 'yyyy年mm+1月'})\n",
    "df_after = df_segment_one_segment_two_after[['user_id', 'segment_one']].rename(columns={'segment_one': 'yyyy年mm+2月'})\n",
    "\n",
    "df_segment_one_merge = pd.merge(df_before_before, df_before, how = 'inner', on = 'user_id')\n",
    "df_segment_one_merge = pd.merge(df_segment_one_merge, df_after, how = 'inner', on = 'user_id')\n",
    "\n",
    "df_segment_one_merge = df_segment_one_merge[['yyyy年mm月', 'yyyy年mm+1月', 'yyyy年mm+2月']]\n",
    "df_segment_one_merge.to_csv('df_segment_one_merge.csv', index = False, encoding = 'utf-8')"
   ]
  },
  {
   "cell_type": "code",
   "execution_count": null,
   "metadata": {},
   "outputs": [],
   "source": []
  },
  {
   "cell_type": "markdown",
   "metadata": {},
   "source": [
    "# segment_two_transition(Sankey diagram)"
   ]
  },
  {
   "cell_type": "code",
   "execution_count": 114,
   "metadata": {},
   "outputs": [],
   "source": [
    "df_before_before_a = df_segment_one_segment_two_before_before[['user_id', 'segment_two']].rename(columns={'gasha_purpose': 'yyyy年mm月'})\n",
    "df_before_a = df_segment_one_segment_two_before[['user_id', 'segment_two']].rename(columns={'segment_two': 'yyyy年mm+1月'})\n",
    "df_after_a = df_segment_one_segment_two_before[['user_id', 'segment_two']].rename(columns={'segment_two': 'yyyy年mm+2月'})\n",
    "\n",
    "df_segment_two_merge = pd.merge(df_before_before_a, df_before_a, how = 'inner', on = 'user_id')\n",
    "df_segment_two_merge = pd.merge(df_segment_two_merge, df_after_a, how = 'inner', on = 'user_id')\n",
    "\n",
    "df_segment_two_merge = df_segment_two_merge[['yyyy年mm月', 'yyyy年mm+1月', 'yyyy年mm+2月']]\n",
    "df_segment_two_merge.to_csv('df_segment_two_merge.csv', index = False,  encoding = 'utf-8')"
   ]
  },
  {
   "cell_type": "code",
   "execution_count": null,
   "metadata": {},
   "outputs": [],
   "source": []
  }
 ],
 "metadata": {
  "kernelspec": {
   "display_name": "Python 3",
   "language": "python",
   "name": "python3"
  },
  "language_info": {
   "codemirror_mode": {
    "name": "ipython",
    "version": 3
   },
   "file_extension": ".py",
   "mimetype": "text/x-python",
   "name": "python",
   "nbconvert_exporter": "python",
   "pygments_lexer": "ipython3",
   "version": "3.11.4"
  }
 },
 "nbformat": 4,
 "nbformat_minor": 2
}
